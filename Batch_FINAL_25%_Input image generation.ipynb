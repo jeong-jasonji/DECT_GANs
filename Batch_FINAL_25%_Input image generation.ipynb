{
 "cells": [
  {
   "cell_type": "markdown",
   "metadata": {},
   "source": [
    "# Steps:\n",
    "1. change notebook title and save based on type of data generating (e.g. halfdose vs. 25% dose)\n",
    "2. create corresponding patient series folder (e.g. halfdose)\n",
    "3. change just before save final images the folder name in 2nd to last line) "
   ]
  },
  {
   "cell_type": "markdown",
   "metadata": {},
   "source": [
    "# Import packages"
   ]
  },
  {
   "cell_type": "code",
   "execution_count": null,
   "metadata": {},
   "outputs": [],
   "source": [
    "import os\n",
    "import sys\n",
    "import glob\n",
    "import matplotlib as plt\n",
    "import matplotlib.pyplot as plt \n",
    "import matplotlib.image as mpimage\n",
    "import pydicom\n",
    "from pydicom import dcmread\n",
    "import numpy as np\n",
    "import scipy\n",
    "import shutil\n",
    "#from tqdm import notebook tqdm as tqdm\n",
    "import tqdm"
   ]
  },
  {
   "cell_type": "code",
   "execution_count": null,
   "metadata": {},
   "outputs": [],
   "source": [
    "#want to create a list of patient accessions (folder names that are accesions)\n",
    "patients=[]\n",
    "rootDir= '/mnt/data2/dect/data/dect_pull/Pull/'  \n",
    "for folders in next(os.walk(rootDir))[1]:\n",
    "    patients.append(folders)"
   ]
  },
  {
   "cell_type": "code",
   "execution_count": null,
   "metadata": {},
   "outputs": [],
   "source": [
    "#first identify acession folders that do not have all 4 subfolders (e.g. 100kvp, iodine, vue, 50kev)\n",
    "path = '/mnt/data2/dect/data/dect_pull/Pull/'\n",
    "remove_list = []\n",
    "import os\n",
    "for dir, subdir, files in os.walk(path):\n",
    "    if 1 <= len(subdir) < 4:\n",
    "        print(\"{}\".format(dir) + \" is incomplete with, \" + \"total subfolders of: \" + str(len(subdir)))\n",
    "        remove_list.append(dir)"
   ]
  },
  {
   "cell_type": "code",
   "execution_count": null,
   "metadata": {},
   "outputs": [],
   "source": [
    "#print list of these folders:\n",
    "remove_list"
   ]
  },
  {
   "cell_type": "code",
   "execution_count": null,
   "metadata": {},
   "outputs": [],
   "source": [
    "# ***DELETES THESE FOLDERS ****\n",
    "import shutil\n",
    "for item in remove_list:\n",
    "    shutil.rmtree(item)"
   ]
  },
  {
   "cell_type": "code",
   "execution_count": null,
   "metadata": {},
   "outputs": [],
   "source": [
    "#identify exams where #of dcms in 100kvp does not match number in either iodine or vue\n",
    "mismatch = []\n",
    "kvp100 = '2.5MM_100_kVp_Like_Stnd'\n",
    "iodine = '2.5MM_Iodine(Water)_Stnd_AR50'\n",
    "vue = 'VUE_2.5MM_VUE_Stnd_AR50'\n",
    "for accession in patients:\n",
    "    path_total = '/mnt/data2/dect/data/dect_pull/Pull/' + str(accession) + '/**/*.dcm'\n",
    "    total_size = str(len(glob.glob(path_total, recursive=True)))\n",
    "    \n",
    "    path_100 = '/mnt/data2/dect/data/dect_pull/Pull/'+ str(accession) + '/' + kvp100 + '/*.dcm'\n",
    "    size_100 = str(len(glob.glob(path_100, recursive=True)))\n",
    "    \n",
    "    path_iodine = '/mnt/data2/dect/data/dect_pull/Pull/' + str(accession) + '/' + iodine + '/*.dcm'\n",
    "    size_iodine = str(len(glob.glob(path_iodine, recursive=True)))\n",
    "    \n",
    "    path_vue= '/mnt/data2/dect/data/dect_pull/Pull/' + str(accession) + '/' + vue + '/*.dcm'\n",
    "    size_vue= str(len(glob.glob(path_vue, recursive=True)))\n",
    "    \n",
    "    #100 should equal iodine, 100 should equal vue, otw print\n",
    "    if size_100 != size_iodine:\n",
    "        print(accession + ' has a mismatch b/ 100 and iodine with' + '100kvp of ' + size_100 + ' and iodine of ' + size_iodine)\n",
    "        mismatch.append(accession)\n",
    "        \n",
    "    elif size_100 != size_vue:\n",
    "        print(accession + ' has a mismatch b/ 100 and vue with' + '100kvp of ' + size_100 + ' and vue of ' + size_vue)\n",
    "        mismatch.append(accession)\n",
    "    \n",
    "    #else:\n",
    "        #print('no mismatches')"
   ]
  },
  {
   "cell_type": "code",
   "execution_count": null,
   "metadata": {},
   "outputs": [],
   "source": [
    "#print lenght/list of these folders:\n",
    "len(mismatch)"
   ]
  },
  {
   "cell_type": "code",
   "execution_count": null,
   "metadata": {},
   "outputs": [],
   "source": [
    "# ***DELETES THESE FOLDERS ****\n",
    "import shutil\n",
    "for item in mismatch:\n",
    "    path_item = '/mnt/data2/dect/data/dect_pull/Pull/' + str(item)\n",
    "    shutil.rmtree(path_item)"
   ]
  },
  {
   "cell_type": "code",
   "execution_count": null,
   "metadata": {},
   "outputs": [],
   "source": [
    "#'/mnt/data2/dect/data/dect_pull/Pull/'\n",
    "path = '/mnt/data2/dect/data/dect_pull/Pull/'\n",
    "for filename in os.listdir(path):\n",
    "    new_filename=filename.zfill(8)\n",
    "    os.rename(os.path.join(path, filename), os.path.join(path, new_filename))"
   ]
  },
  {
   "cell_type": "code",
   "execution_count": null,
   "metadata": {},
   "outputs": [],
   "source": [
    "## update list of patient accessions after removing mismatches\n",
    "#'/mnt/data2/dect/data/dect_pull/Pull/'\n",
    "updated_patients=[]\n",
    "rootDir= '/mnt/data2/dect/data/dect_pull/Pull/'  \n",
    "for folders in next(os.walk(rootDir))[1]:\n",
    "    updated_patients.append(folders)"
   ]
  },
  {
   "cell_type": "code",
   "execution_count": null,
   "metadata": {},
   "outputs": [],
   "source": [
    "len(updated_patients)"
   ]
  },
  {
   "cell_type": "code",
   "execution_count": null,
   "metadata": {},
   "outputs": [],
   "source": [
    "#create subfolders in each patient\n",
    "#'/mnt/data2/dect/data/dect_pull/Pull/'\n",
    "import os\n",
    "root_path = '/mnt/data2/dect/data/dect_pull/Pull/' \n",
    "subfolders = ['25dose'] #[] 'halfdose', 25dose', '15dose', '10dose', '5dose', '(JUST use VUE for 0)']\n",
    "for patient_id in updated_patients:\n",
    "    for subfolder in subfolders:\n",
    "        os.mkdir(os.path.join(root_path,patient_id,subfolder))"
   ]
  },
  {
   "cell_type": "markdown",
   "metadata": {},
   "source": [
    " "
   ]
  },
  {
   "cell_type": "markdown",
   "metadata": {},
   "source": [
    "## Pre-processing function"
   ]
  },
  {
   "cell_type": "code",
   "execution_count": null,
   "metadata": {},
   "outputs": [],
   "source": [
    "#walk a single file or fname through the process, in this case 100kVp file\n",
    "def processing(file):\n",
    "        #load dicoms\n",
    "        ordered_dicom = pydicom.dcmread(file)\n",
    "\n",
    "        #change file path string to get corresponding iodine & vue\n",
    "        [file] #convert fnam from str to list\n",
    "        list_iodine = file.replace('2.5MM_100_kVp_Like_Stnd', '2.5MM_Iodine(Water)_Stnd_AR50')\n",
    "        iodine_fname = str(list_iodine)\n",
    "        list_vue = file.replace('2.5MM_100_kVp_Like_Stnd', 'VUE_2.5MM_VUE_Stnd_AR50')\n",
    "        vue_fname = str(list_vue)\n",
    "    \n",
    "        #now read in iodine and vue dicoms with new string file paths\n",
    "\n",
    "        ordered_iodine_dicom = pydicom.dcmread(iodine_fname)\n",
    "        ordered_vue_dicom = pydicom.dcmread(vue_fname)\n",
    "\n",
    "        # generate pixel arrays\n",
    "        img2d=ordered_dicom.pixel_array\n",
    "        iodine2d=ordered_iodine_dicom.pixel_array\n",
    "        vue2d=ordered_vue_dicom.pixel_array\n",
    "\n",
    "        #modify pixel data\n",
    "        pwater = ((vue2d+1000)/1000)\n",
    "        piodine = ((iodine2d/10000))\n",
    "\n",
    "        mass_atten_iodine=5.0150\n",
    "        mass_atten_vue=0.1929\n",
    "\n",
    "        #change amount of iodine/contrast here (e.g. .50 for half dose)\n",
    "        mass_density_percent_iodine=piodine*0.20*mass_atten_iodine  \n",
    "        mass_density_vue= pwater*mass_atten_vue  \n",
    "\n",
    "        lin_atten_70=mass_density_percent_iodine + mass_density_vue\n",
    "\n",
    "        imageVM = (1000*((lin_atten_70-mass_atten_vue)/mass_atten_vue))\n",
    "\n",
    "        imageVM=np.array(imageVM)\n",
    "\n",
    "        imageVMint16 = imageVM.astype(np.uint16)  \n",
    "\n",
    "        imageVMtobytes = imageVMint16.tobytes()  \n",
    "\n",
    "        ordered_dicom.PixelData=imageVMtobytes \n",
    "\n",
    "        new_fname = file.replace('2.5MM_100_kVp_Like_Stnd', '20dose')\n",
    "\n",
    "        return ordered_dicom.save_as(new_fname)\n",
    "        \n",
    "        print('loaded: {}'.format(new_fname)) "
   ]
  },
  {
   "cell_type": "markdown",
   "metadata": {},
   "source": [
    "### LOAD REG (100 KvP IMAGES) "
   ]
  },
  {
   "cell_type": "code",
   "execution_count": null,
   "metadata": {},
   "outputs": [],
   "source": [
    "cd /Volumes/bhavikssd4/AI_DECT/"
   ]
  },
  {
   "cell_type": "code",
   "execution_count": null,
   "metadata": {},
   "outputs": [],
   "source": [
    "# load the file names\n",
    "fnames = []\n",
    "for fname in glob.glob('**/2.5MM_100_kVp_Like_Stnd/*.dcm', recursive=True):\n",
    "    #print(\"loading: {}\".format(fname))\n",
    "    fnames.append((fname))\n",
    "print(\"file count: {}\".format(len(fnames)))"
   ]
  },
  {
   "cell_type": "code",
   "execution_count": null,
   "metadata": {},
   "outputs": [],
   "source": [
    "# ensure they are in the correct order\n",
    "fnames = sorted(fnames,reverse=True)"
   ]
  },
  {
   "cell_type": "markdown",
   "metadata": {},
   "source": [
    "### LOAD IODINE IMAGES"
   ]
  },
  {
   "cell_type": "code",
   "execution_count": null,
   "metadata": {},
   "outputs": [],
   "source": [
    "# load the file names\n",
    "fnames_iodine = []\n",
    "for fname_iodine in glob.glob('**/2.5MM_Iodine(Water)_Stnd_AR50/*.dcm', recursive=True):\n",
    "    #print(\"loading: {}\".format(fname_iodine))\n",
    "    fnames_iodine.append((fname_iodine))\n",
    "print(\"file count: {}\".format(len(fnames_iodine)))"
   ]
  },
  {
   "cell_type": "code",
   "execution_count": null,
   "metadata": {},
   "outputs": [],
   "source": [
    "# ensure they are in the correct order\n",
    "fnames_iodine = sorted(fnames_iodine, reverse=True)"
   ]
  },
  {
   "cell_type": "markdown",
   "metadata": {},
   "source": [
    "### LOAD VUE SECTION"
   ]
  },
  {
   "cell_type": "code",
   "execution_count": null,
   "metadata": {},
   "outputs": [],
   "source": [
    "# load the file names\n",
    "fnames_vue = []\n",
    "for fname_vue in glob.glob('**/VUE_2.5MM_VUE_Stnd_AR50/*.dcm', recursive=True):\n",
    "    #print(\"loading: {}\".format(fname_vue))\n",
    "    fnames_vue.append((fname_vue))\n",
    "print(\"file count: {}\".format(len(fnames_vue)))"
   ]
  },
  {
   "cell_type": "code",
   "execution_count": null,
   "metadata": {},
   "outputs": [],
   "source": [
    "# ensure they are in the correct order\n",
    "fnames_vue = sorted(fnames_vue, reverse=True)"
   ]
  },
  {
   "cell_type": "markdown",
   "metadata": {},
   "source": [
    "## Change filepath string of iodine and vue so they match \"IM-****\" of 100kVp files"
   ]
  },
  {
   "cell_type": "code",
   "execution_count": null,
   "metadata": {},
   "outputs": [],
   "source": [
    "#grabs the \"IM-****\" from 100kVp fnames\n",
    "list_fname_strings=[]\n",
    "for item in fnames:\n",
    "    list_fname_strings.append(item[-13:])"
   ]
  },
  {
   "cell_type": "code",
   "execution_count": null,
   "metadata": {},
   "outputs": [],
   "source": [
    "#joins the \"IM****\" from 100kVp to iodine path\n",
    "list_fname_iodine_strings=[]\n",
    "for i, item in enumerate(fnames_iodine):\n",
    "    item = item[:-13] + list_fname_strings[i]\n",
    "    list_fname_iodine_strings.append(item)"
   ]
  },
  {
   "cell_type": "code",
   "execution_count": null,
   "metadata": {},
   "outputs": [],
   "source": [
    "#write the filename change\n",
    "for fname_iodine, fname in zip(fnames_iodine, list_fname_iodine_strings):\n",
    "    os.rename(fname_iodine, fname)"
   ]
  },
  {
   "cell_type": "code",
   "execution_count": null,
   "metadata": {},
   "outputs": [],
   "source": [
    "#joins the \"IM****\" from 100kVp to vue path\n",
    "list_fname_vue_strings=[]\n",
    "for i, item in enumerate(fnames_vue):\n",
    "    item = item[:-13] + list_fname_strings[i]\n",
    "    list_fname_vue_strings.append(item)"
   ]
  },
  {
   "cell_type": "code",
   "execution_count": null,
   "metadata": {},
   "outputs": [],
   "source": [
    "#write the filename change\n",
    "for fname_vue, fname in zip(fnames_vue, list_fname_vue_strings):\n",
    "    os.rename(fname_vue, fname)"
   ]
  },
  {
   "cell_type": "markdown",
   "metadata": {},
   "source": [
    "## Process files"
   ]
  },
  {
   "cell_type": "code",
   "execution_count": null,
   "metadata": {
    "scrolled": true
   },
   "outputs": [],
   "source": [
    "for file in tqdm(fnames):\n",
    "    processing(file)"
   ]
  },
  {
   "cell_type": "code",
   "execution_count": null,
   "metadata": {},
   "outputs": [],
   "source": []
  }
 ],
 "metadata": {
  "kernelspec": {
   "display_name": "Python 3 (ipykernel)",
   "language": "python",
   "name": "python3"
  },
  "language_info": {
   "codemirror_mode": {
    "name": "ipython",
    "version": 3
   },
   "file_extension": ".py",
   "mimetype": "text/x-python",
   "name": "python",
   "nbconvert_exporter": "python",
   "pygments_lexer": "ipython3",
   "version": "3.9.7"
  }
 },
 "nbformat": 4,
 "nbformat_minor": 4
}
